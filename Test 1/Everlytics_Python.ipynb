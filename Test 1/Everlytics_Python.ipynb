{
  "cells": [
    {
      "cell_type": "markdown",
      "metadata": {
        "id": "tLA77RN33ANO"
      },
      "source": [
        "### Question 1 :\n",
        "\n",
        "Write code to convert the below Dictionary in Pandas Dataframe:\n",
        "      \n",
        "Dictionary:  `dct = [{'2022-03-31': {'A': 12323, 'B': 123123}},{'2021-03-31': {'A': 12, 'B': 123}}]`\n",
        "      \n",
        "Expected Output: df is dataframe\n",
        "```       \n",
        ">> df\n",
        "            Date         A         B\n",
        "    0 2022-03-31 12323 123123\n",
        "    1 2021-03-31     12         123\n",
        "```\n"
      ]
    },
    {
      "cell_type": "code",
      "execution_count": null,
      "metadata": {
        "id": "CjKUS7pF2dk8"
      },
      "outputs": [],
      "source": [
        "import pandas as pd"
      ]
    },
    {
      "cell_type": "code",
      "execution_count": null,
      "metadata": {
        "id": "ye_4rf3D2rpx"
      },
      "outputs": [],
      "source": [
        "dct = [{'2022-03-31': {'A': 12323, 'B': 123123}}, {'2021-03-31': {'A': 12, 'B': 123}}]\n",
        "dataList = []"
      ]
    },
    {
      "cell_type": "code",
      "execution_count": null,
      "metadata": {
        "id": "yvhP3Liy2vjd"
      },
      "outputs": [],
      "source": [
        "for entry in dct:\n",
        "    date, valueDict = list(entry.items())[0]\n",
        "    valueDict['Date'] = date\n",
        "    dataList.append(valueDict)\n",
        "\n",
        "df = pd.DataFrame(dataList)\n",
        "df = df[['Date', 'A', 'B']]"
      ]
    },
    {
      "cell_type": "code",
      "execution_count": null,
      "metadata": {
        "colab": {
          "base_uri": "https://localhost:8080/"
        },
        "id": "uN3IPJ8D2zV5",
        "outputId": "fd01d155-b33c-48d7-8ae6-19b960a5b3e0"
      },
      "outputs": [
        {
          "name": "stdout",
          "output_type": "stream",
          "text": [
            "         Date      A       B\n",
            "0  2022-03-31  12323  123123\n",
            "1  2021-03-31     12     123\n"
          ]
        }
      ],
      "source": [
        "print(df)"
      ]
    },
    {
      "cell_type": "markdown",
      "metadata": {
        "id": "nh7YC_fb3VSq"
      },
      "source": [
        "### Question 2:\n",
        "\n",
        "Write a Python code to count the Sum of positive and negative numbers that are below 40 in the below list.\n",
        "\n",
        "\n",
        "`list = [10,-20,30,40,-50,60,12,-12,11,1,90,-20,-10,-5,-4]`\n",
        "\n",
        "Expected Output:\n",
        "```\n",
        "The sum of positive elements in the list below 40: X\n",
        "The sum of negative elements in the list below is 40: Y\n",
        "```"
      ]
    },
    {
      "cell_type": "code",
      "execution_count": null,
      "metadata": {
        "id": "GhKWSska3cLY"
      },
      "outputs": [],
      "source": [
        "list = [10, -20, 30, 40, -50, 60, 12, -12, 11, 1, 90, -20, -10, -5, -4]\n",
        "positivesum = 0\n",
        "negativesum = 0"
      ]
    },
    {
      "cell_type": "code",
      "execution_count": null,
      "metadata": {
        "id": "2VRoCzbk5iBD"
      },
      "outputs": [],
      "source": [
        "for num in list:\n",
        "    if num < 40:\n",
        "        if num > 0:\n",
        "            positivesum += num\n",
        "        elif num < 0:\n",
        "            negativesum += num"
      ]
    },
    {
      "cell_type": "code",
      "execution_count": null,
      "metadata": {
        "colab": {
          "base_uri": "https://localhost:8080/"
        },
        "id": "vbI09dkY5sLL",
        "outputId": "4807a715-9926-46e1-dd5f-a9e32b809c13"
      },
      "outputs": [
        {
          "name": "stdout",
          "output_type": "stream",
          "text": [
            "The sum of positive elements in the list below 40: 64\n",
            "The sum of negative elements in the list below 40: -121\n"
          ]
        }
      ],
      "source": [
        "print(f\"The sum of positive elements in the list below 40: {positivesum}\")\n",
        "print(f\"The sum of negative elements in the list below 40: {negativesum}\")"
      ]
    },
    {
      "cell_type": "code",
      "execution_count": null,
      "metadata": {
        "id": "xrT0AuvP5uPH"
      },
      "outputs": [],
      "source": []
    }
  ],
  "metadata": {
    "colab": {
      "provenance": []
    },
    "kernelspec": {
      "display_name": "Python 3",
      "name": "python3"
    },
    "language_info": {
      "name": "python"
    }
  },
  "nbformat": 4,
  "nbformat_minor": 0
}
